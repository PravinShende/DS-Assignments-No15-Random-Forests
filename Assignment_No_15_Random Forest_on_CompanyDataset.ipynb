{
 "cells": [
  {
   "cell_type": "code",
   "execution_count": 21,
   "id": "3f746a38",
   "metadata": {
    "ExecuteTime": {
     "end_time": "2021-12-18T05:20:22.666594Z",
     "start_time": "2021-12-18T05:20:22.641662Z"
    }
   },
   "outputs": [],
   "source": [
    "# Importing necessary libraries\n",
    "import pandas as pd\n",
    "import numpy as np\n",
    "import matplotlib.pyplot as plt\n",
    "%matplotlib inline\n",
    "import seaborn as sns\n",
    "from scipy import stats\n",
    "from sklearn.model_selection import train_test_split\n",
    "from sklearn.tree import  DecisionTreeClassifier\n",
    "from sklearn.tree import  DecisionTreeRegressor\n",
    "from sklearn import tree\n",
    "from sklearn.metrics import classification_report\n",
    "from sklearn import preprocessing\n",
    "from sklearn.linear_model import LogisticRegression\n",
    "\n",
    "from sklearn import tree\n",
    "from sklearn.metrics import classification_report\n",
    "from sklearn import preprocessing\n",
    "import warnings\n",
    "warnings.filterwarnings(\"ignore\")\n"
   ]
  },
  {
   "cell_type": "code",
   "execution_count": 2,
   "id": "a520d83c",
   "metadata": {
    "ExecuteTime": {
     "end_time": "2021-12-18T05:20:26.342125Z",
     "start_time": "2021-12-18T05:20:26.295251Z"
    }
   },
   "outputs": [
    {
     "data": {
      "text/html": [
       "<div>\n",
       "<style scoped>\n",
       "    .dataframe tbody tr th:only-of-type {\n",
       "        vertical-align: middle;\n",
       "    }\n",
       "\n",
       "    .dataframe tbody tr th {\n",
       "        vertical-align: top;\n",
       "    }\n",
       "\n",
       "    .dataframe thead th {\n",
       "        text-align: right;\n",
       "    }\n",
       "</style>\n",
       "<table border=\"1\" class=\"dataframe\">\n",
       "  <thead>\n",
       "    <tr style=\"text-align: right;\">\n",
       "      <th></th>\n",
       "      <th>Sales</th>\n",
       "      <th>CompPrice</th>\n",
       "      <th>Income</th>\n",
       "      <th>Advertising</th>\n",
       "      <th>Population</th>\n",
       "      <th>Price</th>\n",
       "      <th>ShelveLoc</th>\n",
       "      <th>Age</th>\n",
       "      <th>Education</th>\n",
       "      <th>Urban</th>\n",
       "      <th>US</th>\n",
       "    </tr>\n",
       "  </thead>\n",
       "  <tbody>\n",
       "    <tr>\n",
       "      <th>0</th>\n",
       "      <td>9.50</td>\n",
       "      <td>138</td>\n",
       "      <td>73</td>\n",
       "      <td>11</td>\n",
       "      <td>276</td>\n",
       "      <td>120</td>\n",
       "      <td>Bad</td>\n",
       "      <td>42</td>\n",
       "      <td>17</td>\n",
       "      <td>Yes</td>\n",
       "      <td>Yes</td>\n",
       "    </tr>\n",
       "    <tr>\n",
       "      <th>1</th>\n",
       "      <td>11.22</td>\n",
       "      <td>111</td>\n",
       "      <td>48</td>\n",
       "      <td>16</td>\n",
       "      <td>260</td>\n",
       "      <td>83</td>\n",
       "      <td>Good</td>\n",
       "      <td>65</td>\n",
       "      <td>10</td>\n",
       "      <td>Yes</td>\n",
       "      <td>Yes</td>\n",
       "    </tr>\n",
       "    <tr>\n",
       "      <th>2</th>\n",
       "      <td>10.06</td>\n",
       "      <td>113</td>\n",
       "      <td>35</td>\n",
       "      <td>10</td>\n",
       "      <td>269</td>\n",
       "      <td>80</td>\n",
       "      <td>Medium</td>\n",
       "      <td>59</td>\n",
       "      <td>12</td>\n",
       "      <td>Yes</td>\n",
       "      <td>Yes</td>\n",
       "    </tr>\n",
       "    <tr>\n",
       "      <th>3</th>\n",
       "      <td>7.40</td>\n",
       "      <td>117</td>\n",
       "      <td>100</td>\n",
       "      <td>4</td>\n",
       "      <td>466</td>\n",
       "      <td>97</td>\n",
       "      <td>Medium</td>\n",
       "      <td>55</td>\n",
       "      <td>14</td>\n",
       "      <td>Yes</td>\n",
       "      <td>Yes</td>\n",
       "    </tr>\n",
       "    <tr>\n",
       "      <th>4</th>\n",
       "      <td>4.15</td>\n",
       "      <td>141</td>\n",
       "      <td>64</td>\n",
       "      <td>3</td>\n",
       "      <td>340</td>\n",
       "      <td>128</td>\n",
       "      <td>Bad</td>\n",
       "      <td>38</td>\n",
       "      <td>13</td>\n",
       "      <td>Yes</td>\n",
       "      <td>No</td>\n",
       "    </tr>\n",
       "  </tbody>\n",
       "</table>\n",
       "</div>"
      ],
      "text/plain": [
       "   Sales  CompPrice  Income  Advertising  Population  Price ShelveLoc  Age  \\\n",
       "0   9.50        138      73           11         276    120       Bad   42   \n",
       "1  11.22        111      48           16         260     83      Good   65   \n",
       "2  10.06        113      35           10         269     80    Medium   59   \n",
       "3   7.40        117     100            4         466     97    Medium   55   \n",
       "4   4.15        141      64            3         340    128       Bad   38   \n",
       "\n",
       "   Education Urban   US  \n",
       "0         17   Yes  Yes  \n",
       "1         10   Yes  Yes  \n",
       "2         12   Yes  Yes  \n",
       "3         14   Yes  Yes  \n",
       "4         13   Yes   No  "
      ]
     },
     "execution_count": 2,
     "metadata": {},
     "output_type": "execute_result"
    }
   ],
   "source": [
    "\n",
    "data=pd.read_csv('Company_Data.csv')\n",
    "data.head()"
   ]
  },
  {
   "cell_type": "code",
   "execution_count": 3,
   "id": "8d0fda83",
   "metadata": {
    "ExecuteTime": {
     "end_time": "2021-12-18T05:20:28.828539Z",
     "start_time": "2021-12-18T05:20:28.807594Z"
    }
   },
   "outputs": [
    {
     "name": "stdout",
     "output_type": "stream",
     "text": [
      "<class 'pandas.core.frame.DataFrame'>\n",
      "RangeIndex: 400 entries, 0 to 399\n",
      "Data columns (total 11 columns):\n",
      " #   Column       Non-Null Count  Dtype  \n",
      "---  ------       --------------  -----  \n",
      " 0   Sales        400 non-null    float64\n",
      " 1   CompPrice    400 non-null    int64  \n",
      " 2   Income       400 non-null    int64  \n",
      " 3   Advertising  400 non-null    int64  \n",
      " 4   Population   400 non-null    int64  \n",
      " 5   Price        400 non-null    int64  \n",
      " 6   ShelveLoc    400 non-null    object \n",
      " 7   Age          400 non-null    int64  \n",
      " 8   Education    400 non-null    int64  \n",
      " 9   Urban        400 non-null    object \n",
      " 10  US           400 non-null    object \n",
      "dtypes: float64(1), int64(7), object(3)\n",
      "memory usage: 34.5+ KB\n"
     ]
    }
   ],
   "source": [
    "data.info()\n"
   ]
  },
  {
   "cell_type": "code",
   "execution_count": 4,
   "id": "ad5f5159",
   "metadata": {
    "ExecuteTime": {
     "end_time": "2021-12-18T05:20:33.543308Z",
     "start_time": "2021-12-18T05:20:33.488455Z"
    }
   },
   "outputs": [
    {
     "data": {
      "text/html": [
       "<div>\n",
       "<style scoped>\n",
       "    .dataframe tbody tr th:only-of-type {\n",
       "        vertical-align: middle;\n",
       "    }\n",
       "\n",
       "    .dataframe tbody tr th {\n",
       "        vertical-align: top;\n",
       "    }\n",
       "\n",
       "    .dataframe thead th {\n",
       "        text-align: right;\n",
       "    }\n",
       "</style>\n",
       "<table border=\"1\" class=\"dataframe\">\n",
       "  <thead>\n",
       "    <tr style=\"text-align: right;\">\n",
       "      <th></th>\n",
       "      <th>Sales</th>\n",
       "      <th>CompPrice</th>\n",
       "      <th>Income</th>\n",
       "      <th>Advertising</th>\n",
       "      <th>Population</th>\n",
       "      <th>Price</th>\n",
       "      <th>Age</th>\n",
       "      <th>Education</th>\n",
       "    </tr>\n",
       "  </thead>\n",
       "  <tbody>\n",
       "    <tr>\n",
       "      <th>count</th>\n",
       "      <td>400.000000</td>\n",
       "      <td>400.000000</td>\n",
       "      <td>400.000000</td>\n",
       "      <td>400.000000</td>\n",
       "      <td>400.000000</td>\n",
       "      <td>400.000000</td>\n",
       "      <td>400.000000</td>\n",
       "      <td>400.000000</td>\n",
       "    </tr>\n",
       "    <tr>\n",
       "      <th>mean</th>\n",
       "      <td>7.496325</td>\n",
       "      <td>124.975000</td>\n",
       "      <td>68.657500</td>\n",
       "      <td>6.635000</td>\n",
       "      <td>264.840000</td>\n",
       "      <td>115.795000</td>\n",
       "      <td>53.322500</td>\n",
       "      <td>13.900000</td>\n",
       "    </tr>\n",
       "    <tr>\n",
       "      <th>std</th>\n",
       "      <td>2.824115</td>\n",
       "      <td>15.334512</td>\n",
       "      <td>27.986037</td>\n",
       "      <td>6.650364</td>\n",
       "      <td>147.376436</td>\n",
       "      <td>23.676664</td>\n",
       "      <td>16.200297</td>\n",
       "      <td>2.620528</td>\n",
       "    </tr>\n",
       "    <tr>\n",
       "      <th>min</th>\n",
       "      <td>0.000000</td>\n",
       "      <td>77.000000</td>\n",
       "      <td>21.000000</td>\n",
       "      <td>0.000000</td>\n",
       "      <td>10.000000</td>\n",
       "      <td>24.000000</td>\n",
       "      <td>25.000000</td>\n",
       "      <td>10.000000</td>\n",
       "    </tr>\n",
       "    <tr>\n",
       "      <th>25%</th>\n",
       "      <td>5.390000</td>\n",
       "      <td>115.000000</td>\n",
       "      <td>42.750000</td>\n",
       "      <td>0.000000</td>\n",
       "      <td>139.000000</td>\n",
       "      <td>100.000000</td>\n",
       "      <td>39.750000</td>\n",
       "      <td>12.000000</td>\n",
       "    </tr>\n",
       "    <tr>\n",
       "      <th>50%</th>\n",
       "      <td>7.490000</td>\n",
       "      <td>125.000000</td>\n",
       "      <td>69.000000</td>\n",
       "      <td>5.000000</td>\n",
       "      <td>272.000000</td>\n",
       "      <td>117.000000</td>\n",
       "      <td>54.500000</td>\n",
       "      <td>14.000000</td>\n",
       "    </tr>\n",
       "    <tr>\n",
       "      <th>75%</th>\n",
       "      <td>9.320000</td>\n",
       "      <td>135.000000</td>\n",
       "      <td>91.000000</td>\n",
       "      <td>12.000000</td>\n",
       "      <td>398.500000</td>\n",
       "      <td>131.000000</td>\n",
       "      <td>66.000000</td>\n",
       "      <td>16.000000</td>\n",
       "    </tr>\n",
       "    <tr>\n",
       "      <th>max</th>\n",
       "      <td>16.270000</td>\n",
       "      <td>175.000000</td>\n",
       "      <td>120.000000</td>\n",
       "      <td>29.000000</td>\n",
       "      <td>509.000000</td>\n",
       "      <td>191.000000</td>\n",
       "      <td>80.000000</td>\n",
       "      <td>18.000000</td>\n",
       "    </tr>\n",
       "  </tbody>\n",
       "</table>\n",
       "</div>"
      ],
      "text/plain": [
       "            Sales   CompPrice      Income  Advertising  Population  \\\n",
       "count  400.000000  400.000000  400.000000   400.000000  400.000000   \n",
       "mean     7.496325  124.975000   68.657500     6.635000  264.840000   \n",
       "std      2.824115   15.334512   27.986037     6.650364  147.376436   \n",
       "min      0.000000   77.000000   21.000000     0.000000   10.000000   \n",
       "25%      5.390000  115.000000   42.750000     0.000000  139.000000   \n",
       "50%      7.490000  125.000000   69.000000     5.000000  272.000000   \n",
       "75%      9.320000  135.000000   91.000000    12.000000  398.500000   \n",
       "max     16.270000  175.000000  120.000000    29.000000  509.000000   \n",
       "\n",
       "            Price         Age   Education  \n",
       "count  400.000000  400.000000  400.000000  \n",
       "mean   115.795000   53.322500   13.900000  \n",
       "std     23.676664   16.200297    2.620528  \n",
       "min     24.000000   25.000000   10.000000  \n",
       "25%    100.000000   39.750000   12.000000  \n",
       "50%    117.000000   54.500000   14.000000  \n",
       "75%    131.000000   66.000000   16.000000  \n",
       "max    191.000000   80.000000   18.000000  "
      ]
     },
     "execution_count": 4,
     "metadata": {},
     "output_type": "execute_result"
    }
   ],
   "source": [
    "data.describe()"
   ]
  },
  {
   "cell_type": "code",
   "execution_count": 5,
   "id": "be2d0bef",
   "metadata": {
    "ExecuteTime": {
     "end_time": "2021-12-18T05:20:38.375212Z",
     "start_time": "2021-12-18T05:20:38.352274Z"
    }
   },
   "outputs": [
    {
     "data": {
      "text/plain": [
       "Sales          0\n",
       "CompPrice      0\n",
       "Income         0\n",
       "Advertising    0\n",
       "Population     0\n",
       "Price          0\n",
       "ShelveLoc      0\n",
       "Age            0\n",
       "Education      0\n",
       "Urban          0\n",
       "US             0\n",
       "dtype: int64"
      ]
     },
     "execution_count": 5,
     "metadata": {},
     "output_type": "execute_result"
    }
   ],
   "source": [
    "data.isnull().sum()"
   ]
  },
  {
   "cell_type": "code",
   "execution_count": 6,
   "id": "926a1e41",
   "metadata": {
    "ExecuteTime": {
     "end_time": "2021-12-18T05:20:41.216065Z",
     "start_time": "2021-12-18T05:20:41.197115Z"
    }
   },
   "outputs": [
    {
     "data": {
      "text/html": [
       "<div>\n",
       "<style scoped>\n",
       "    .dataframe tbody tr th:only-of-type {\n",
       "        vertical-align: middle;\n",
       "    }\n",
       "\n",
       "    .dataframe tbody tr th {\n",
       "        vertical-align: top;\n",
       "    }\n",
       "\n",
       "    .dataframe thead th {\n",
       "        text-align: right;\n",
       "    }\n",
       "</style>\n",
       "<table border=\"1\" class=\"dataframe\">\n",
       "  <thead>\n",
       "    <tr style=\"text-align: right;\">\n",
       "      <th></th>\n",
       "      <th>Sales</th>\n",
       "      <th>CompPrice</th>\n",
       "      <th>Income</th>\n",
       "      <th>Advertising</th>\n",
       "      <th>Population</th>\n",
       "      <th>Price</th>\n",
       "      <th>ShelveLoc</th>\n",
       "      <th>Age</th>\n",
       "      <th>Education</th>\n",
       "      <th>Urban</th>\n",
       "      <th>US</th>\n",
       "    </tr>\n",
       "  </thead>\n",
       "  <tbody>\n",
       "    <tr>\n",
       "      <th>0</th>\n",
       "      <td>9.50</td>\n",
       "      <td>138</td>\n",
       "      <td>73</td>\n",
       "      <td>11</td>\n",
       "      <td>276</td>\n",
       "      <td>120</td>\n",
       "      <td>Bad</td>\n",
       "      <td>42</td>\n",
       "      <td>17</td>\n",
       "      <td>Yes</td>\n",
       "      <td>Yes</td>\n",
       "    </tr>\n",
       "    <tr>\n",
       "      <th>1</th>\n",
       "      <td>11.22</td>\n",
       "      <td>111</td>\n",
       "      <td>48</td>\n",
       "      <td>16</td>\n",
       "      <td>260</td>\n",
       "      <td>83</td>\n",
       "      <td>Good</td>\n",
       "      <td>65</td>\n",
       "      <td>10</td>\n",
       "      <td>Yes</td>\n",
       "      <td>Yes</td>\n",
       "    </tr>\n",
       "  </tbody>\n",
       "</table>\n",
       "</div>"
      ],
      "text/plain": [
       "   Sales  CompPrice  Income  Advertising  Population  Price ShelveLoc  Age  \\\n",
       "0   9.50        138      73           11         276    120       Bad   42   \n",
       "1  11.22        111      48           16         260     83      Good   65   \n",
       "\n",
       "   Education Urban   US  \n",
       "0         17   Yes  Yes  \n",
       "1         10   Yes  Yes  "
      ]
     },
     "execution_count": 6,
     "metadata": {},
     "output_type": "execute_result"
    }
   ],
   "source": [
    "df=data.copy()\n",
    "df.head(2)"
   ]
  },
  {
   "cell_type": "code",
   "execution_count": 7,
   "id": "26f8e2dc",
   "metadata": {
    "ExecuteTime": {
     "end_time": "2021-12-18T05:20:45.025605Z",
     "start_time": "2021-12-18T05:20:44.699991Z"
    }
   },
   "outputs": [
    {
     "name": "stderr",
     "output_type": "stream",
     "text": [
      "C:\\Users\\Admin\\AppData\\Local\\Temp\\ipykernel_11912\\2733223953.py:10: SettingWithCopyWarning: \n",
      "A value is trying to be set on a copy of a slice from a DataFrame\n",
      "\n",
      "See the caveats in the documentation: https://pandas.pydata.org/pandas-docs/stable/user_guide/indexing.html#returning-a-view-versus-a-copy\n",
      "  df['Sales_class'].iloc[i]='high'\n",
      "C:\\Users\\Admin\\AppData\\Local\\Temp\\ipykernel_11912\\2733223953.py:8: SettingWithCopyWarning: \n",
      "A value is trying to be set on a copy of a slice from a DataFrame\n",
      "\n",
      "See the caveats in the documentation: https://pandas.pydata.org/pandas-docs/stable/user_guide/indexing.html#returning-a-view-versus-a-copy\n",
      "  df['Sales_class'].iloc[i]='Low'\n"
     ]
    }
   ],
   "source": [
    "df.insert(11,'Sales_class',\" \") \n",
    "# here, using insert method , we have created one new extra columns at last position by inserting \n",
    "# its column index value\n",
    "# here mean of sales columns is 7.5 , so we have used that value to create categorical colun\n",
    "                                          # which our problem statement has given that codition\n",
    "for i in range(0,len(df['Sales']),1):\n",
    "    if df['Sales'].iloc[i]<=7.5:         \n",
    "        df['Sales_class'].iloc[i]='Low'\n",
    "    else:\n",
    "        df['Sales_class'].iloc[i]='high'\n"
   ]
  },
  {
   "cell_type": "code",
   "execution_count": 8,
   "id": "e74508e6",
   "metadata": {
    "ExecuteTime": {
     "end_time": "2021-12-18T05:20:50.045954Z",
     "start_time": "2021-12-18T05:20:50.021805Z"
    }
   },
   "outputs": [
    {
     "data": {
      "text/html": [
       "<div>\n",
       "<style scoped>\n",
       "    .dataframe tbody tr th:only-of-type {\n",
       "        vertical-align: middle;\n",
       "    }\n",
       "\n",
       "    .dataframe tbody tr th {\n",
       "        vertical-align: top;\n",
       "    }\n",
       "\n",
       "    .dataframe thead th {\n",
       "        text-align: right;\n",
       "    }\n",
       "</style>\n",
       "<table border=\"1\" class=\"dataframe\">\n",
       "  <thead>\n",
       "    <tr style=\"text-align: right;\">\n",
       "      <th></th>\n",
       "      <th>Sales</th>\n",
       "      <th>CompPrice</th>\n",
       "      <th>Income</th>\n",
       "      <th>Advertising</th>\n",
       "      <th>Population</th>\n",
       "      <th>Price</th>\n",
       "      <th>ShelveLoc</th>\n",
       "      <th>Age</th>\n",
       "      <th>Education</th>\n",
       "      <th>Urban</th>\n",
       "      <th>US</th>\n",
       "      <th>Sales_class</th>\n",
       "    </tr>\n",
       "  </thead>\n",
       "  <tbody>\n",
       "    <tr>\n",
       "      <th>0</th>\n",
       "      <td>9.50</td>\n",
       "      <td>138</td>\n",
       "      <td>73</td>\n",
       "      <td>11</td>\n",
       "      <td>276</td>\n",
       "      <td>120</td>\n",
       "      <td>Bad</td>\n",
       "      <td>42</td>\n",
       "      <td>17</td>\n",
       "      <td>Yes</td>\n",
       "      <td>Yes</td>\n",
       "      <td>high</td>\n",
       "    </tr>\n",
       "    <tr>\n",
       "      <th>1</th>\n",
       "      <td>11.22</td>\n",
       "      <td>111</td>\n",
       "      <td>48</td>\n",
       "      <td>16</td>\n",
       "      <td>260</td>\n",
       "      <td>83</td>\n",
       "      <td>Good</td>\n",
       "      <td>65</td>\n",
       "      <td>10</td>\n",
       "      <td>Yes</td>\n",
       "      <td>Yes</td>\n",
       "      <td>high</td>\n",
       "    </tr>\n",
       "    <tr>\n",
       "      <th>2</th>\n",
       "      <td>10.06</td>\n",
       "      <td>113</td>\n",
       "      <td>35</td>\n",
       "      <td>10</td>\n",
       "      <td>269</td>\n",
       "      <td>80</td>\n",
       "      <td>Medium</td>\n",
       "      <td>59</td>\n",
       "      <td>12</td>\n",
       "      <td>Yes</td>\n",
       "      <td>Yes</td>\n",
       "      <td>high</td>\n",
       "    </tr>\n",
       "    <tr>\n",
       "      <th>3</th>\n",
       "      <td>7.40</td>\n",
       "      <td>117</td>\n",
       "      <td>100</td>\n",
       "      <td>4</td>\n",
       "      <td>466</td>\n",
       "      <td>97</td>\n",
       "      <td>Medium</td>\n",
       "      <td>55</td>\n",
       "      <td>14</td>\n",
       "      <td>Yes</td>\n",
       "      <td>Yes</td>\n",
       "      <td>Low</td>\n",
       "    </tr>\n",
       "    <tr>\n",
       "      <th>4</th>\n",
       "      <td>4.15</td>\n",
       "      <td>141</td>\n",
       "      <td>64</td>\n",
       "      <td>3</td>\n",
       "      <td>340</td>\n",
       "      <td>128</td>\n",
       "      <td>Bad</td>\n",
       "      <td>38</td>\n",
       "      <td>13</td>\n",
       "      <td>Yes</td>\n",
       "      <td>No</td>\n",
       "      <td>Low</td>\n",
       "    </tr>\n",
       "  </tbody>\n",
       "</table>\n",
       "</div>"
      ],
      "text/plain": [
       "   Sales  CompPrice  Income  Advertising  Population  Price ShelveLoc  Age  \\\n",
       "0   9.50        138      73           11         276    120       Bad   42   \n",
       "1  11.22        111      48           16         260     83      Good   65   \n",
       "2  10.06        113      35           10         269     80    Medium   59   \n",
       "3   7.40        117     100            4         466     97    Medium   55   \n",
       "4   4.15        141      64            3         340    128       Bad   38   \n",
       "\n",
       "   Education Urban   US Sales_class  \n",
       "0         17   Yes  Yes        high  \n",
       "1         10   Yes  Yes        high  \n",
       "2         12   Yes  Yes        high  \n",
       "3         14   Yes  Yes         Low  \n",
       "4         13   Yes   No         Low  "
      ]
     },
     "execution_count": 8,
     "metadata": {},
     "output_type": "execute_result"
    }
   ],
   "source": [
    "df.head()\n"
   ]
  },
  {
   "cell_type": "code",
   "execution_count": 9,
   "id": "08523d03",
   "metadata": {
    "ExecuteTime": {
     "end_time": "2021-12-18T05:20:54.379932Z",
     "start_time": "2021-12-18T05:20:54.354001Z"
    }
   },
   "outputs": [
    {
     "data": {
      "text/html": [
       "<div>\n",
       "<style scoped>\n",
       "    .dataframe tbody tr th:only-of-type {\n",
       "        vertical-align: middle;\n",
       "    }\n",
       "\n",
       "    .dataframe tbody tr th {\n",
       "        vertical-align: top;\n",
       "    }\n",
       "\n",
       "    .dataframe thead th {\n",
       "        text-align: right;\n",
       "    }\n",
       "</style>\n",
       "<table border=\"1\" class=\"dataframe\">\n",
       "  <thead>\n",
       "    <tr style=\"text-align: right;\">\n",
       "      <th></th>\n",
       "      <th>CompPrice</th>\n",
       "      <th>Income</th>\n",
       "      <th>Advertising</th>\n",
       "      <th>Population</th>\n",
       "      <th>Price</th>\n",
       "      <th>ShelveLoc</th>\n",
       "      <th>Age</th>\n",
       "      <th>Education</th>\n",
       "      <th>Urban</th>\n",
       "      <th>US</th>\n",
       "      <th>Sales_class</th>\n",
       "    </tr>\n",
       "  </thead>\n",
       "  <tbody>\n",
       "    <tr>\n",
       "      <th>0</th>\n",
       "      <td>138</td>\n",
       "      <td>73</td>\n",
       "      <td>11</td>\n",
       "      <td>276</td>\n",
       "      <td>120</td>\n",
       "      <td>Bad</td>\n",
       "      <td>42</td>\n",
       "      <td>17</td>\n",
       "      <td>Yes</td>\n",
       "      <td>Yes</td>\n",
       "      <td>high</td>\n",
       "    </tr>\n",
       "    <tr>\n",
       "      <th>1</th>\n",
       "      <td>111</td>\n",
       "      <td>48</td>\n",
       "      <td>16</td>\n",
       "      <td>260</td>\n",
       "      <td>83</td>\n",
       "      <td>Good</td>\n",
       "      <td>65</td>\n",
       "      <td>10</td>\n",
       "      <td>Yes</td>\n",
       "      <td>Yes</td>\n",
       "      <td>high</td>\n",
       "    </tr>\n",
       "    <tr>\n",
       "      <th>2</th>\n",
       "      <td>113</td>\n",
       "      <td>35</td>\n",
       "      <td>10</td>\n",
       "      <td>269</td>\n",
       "      <td>80</td>\n",
       "      <td>Medium</td>\n",
       "      <td>59</td>\n",
       "      <td>12</td>\n",
       "      <td>Yes</td>\n",
       "      <td>Yes</td>\n",
       "      <td>high</td>\n",
       "    </tr>\n",
       "    <tr>\n",
       "      <th>3</th>\n",
       "      <td>117</td>\n",
       "      <td>100</td>\n",
       "      <td>4</td>\n",
       "      <td>466</td>\n",
       "      <td>97</td>\n",
       "      <td>Medium</td>\n",
       "      <td>55</td>\n",
       "      <td>14</td>\n",
       "      <td>Yes</td>\n",
       "      <td>Yes</td>\n",
       "      <td>Low</td>\n",
       "    </tr>\n",
       "    <tr>\n",
       "      <th>4</th>\n",
       "      <td>141</td>\n",
       "      <td>64</td>\n",
       "      <td>3</td>\n",
       "      <td>340</td>\n",
       "      <td>128</td>\n",
       "      <td>Bad</td>\n",
       "      <td>38</td>\n",
       "      <td>13</td>\n",
       "      <td>Yes</td>\n",
       "      <td>No</td>\n",
       "      <td>Low</td>\n",
       "    </tr>\n",
       "  </tbody>\n",
       "</table>\n",
       "</div>"
      ],
      "text/plain": [
       "   CompPrice  Income  Advertising  Population  Price ShelveLoc  Age  \\\n",
       "0        138      73           11         276    120       Bad   42   \n",
       "1        111      48           16         260     83      Good   65   \n",
       "2        113      35           10         269     80    Medium   59   \n",
       "3        117     100            4         466     97    Medium   55   \n",
       "4        141      64            3         340    128       Bad   38   \n",
       "\n",
       "   Education Urban   US Sales_class  \n",
       "0         17   Yes  Yes        high  \n",
       "1         10   Yes  Yes        high  \n",
       "2         12   Yes  Yes        high  \n",
       "3         14   Yes  Yes         Low  \n",
       "4         13   Yes   No         Low  "
      ]
     },
     "execution_count": 9,
     "metadata": {},
     "output_type": "execute_result"
    }
   ],
   "source": [
    "df.drop(['Sales'],axis=1,inplace=True)\n",
    "df.head()\n"
   ]
  },
  {
   "cell_type": "code",
   "execution_count": 10,
   "id": "bd8a74dc",
   "metadata": {
    "ExecuteTime": {
     "end_time": "2021-12-18T05:20:58.447137Z",
     "start_time": "2021-12-18T05:20:58.438162Z"
    }
   },
   "outputs": [],
   "source": [
    "#Complete Iris dataset\n",
    "label_encoder = preprocessing.LabelEncoder()\n",
    "df['ShelveLoc']= label_encoder.fit_transform(df['ShelveLoc'])\n",
    "df['Urban']= label_encoder.fit_transform(df['Urban'])\n",
    "df['US']= label_encoder.fit_transform(df['US'])\n",
    "df['Sales_class']= label_encoder.fit_transform(df['Sales_class'])"
   ]
  },
  {
   "cell_type": "code",
   "execution_count": 11,
   "id": "d1d746f4",
   "metadata": {
    "ExecuteTime": {
     "end_time": "2021-12-18T05:21:02.182272Z",
     "start_time": "2021-12-18T05:21:02.159333Z"
    }
   },
   "outputs": [
    {
     "data": {
      "text/html": [
       "<div>\n",
       "<style scoped>\n",
       "    .dataframe tbody tr th:only-of-type {\n",
       "        vertical-align: middle;\n",
       "    }\n",
       "\n",
       "    .dataframe tbody tr th {\n",
       "        vertical-align: top;\n",
       "    }\n",
       "\n",
       "    .dataframe thead th {\n",
       "        text-align: right;\n",
       "    }\n",
       "</style>\n",
       "<table border=\"1\" class=\"dataframe\">\n",
       "  <thead>\n",
       "    <tr style=\"text-align: right;\">\n",
       "      <th></th>\n",
       "      <th>CompPrice</th>\n",
       "      <th>Income</th>\n",
       "      <th>Advertising</th>\n",
       "      <th>Population</th>\n",
       "      <th>Price</th>\n",
       "      <th>ShelveLoc</th>\n",
       "      <th>Age</th>\n",
       "      <th>Education</th>\n",
       "      <th>Urban</th>\n",
       "      <th>US</th>\n",
       "      <th>Sales_class</th>\n",
       "    </tr>\n",
       "  </thead>\n",
       "  <tbody>\n",
       "    <tr>\n",
       "      <th>0</th>\n",
       "      <td>138</td>\n",
       "      <td>73</td>\n",
       "      <td>11</td>\n",
       "      <td>276</td>\n",
       "      <td>120</td>\n",
       "      <td>0</td>\n",
       "      <td>42</td>\n",
       "      <td>17</td>\n",
       "      <td>1</td>\n",
       "      <td>1</td>\n",
       "      <td>1</td>\n",
       "    </tr>\n",
       "    <tr>\n",
       "      <th>1</th>\n",
       "      <td>111</td>\n",
       "      <td>48</td>\n",
       "      <td>16</td>\n",
       "      <td>260</td>\n",
       "      <td>83</td>\n",
       "      <td>1</td>\n",
       "      <td>65</td>\n",
       "      <td>10</td>\n",
       "      <td>1</td>\n",
       "      <td>1</td>\n",
       "      <td>1</td>\n",
       "    </tr>\n",
       "    <tr>\n",
       "      <th>2</th>\n",
       "      <td>113</td>\n",
       "      <td>35</td>\n",
       "      <td>10</td>\n",
       "      <td>269</td>\n",
       "      <td>80</td>\n",
       "      <td>2</td>\n",
       "      <td>59</td>\n",
       "      <td>12</td>\n",
       "      <td>1</td>\n",
       "      <td>1</td>\n",
       "      <td>1</td>\n",
       "    </tr>\n",
       "    <tr>\n",
       "      <th>3</th>\n",
       "      <td>117</td>\n",
       "      <td>100</td>\n",
       "      <td>4</td>\n",
       "      <td>466</td>\n",
       "      <td>97</td>\n",
       "      <td>2</td>\n",
       "      <td>55</td>\n",
       "      <td>14</td>\n",
       "      <td>1</td>\n",
       "      <td>1</td>\n",
       "      <td>0</td>\n",
       "    </tr>\n",
       "    <tr>\n",
       "      <th>4</th>\n",
       "      <td>141</td>\n",
       "      <td>64</td>\n",
       "      <td>3</td>\n",
       "      <td>340</td>\n",
       "      <td>128</td>\n",
       "      <td>0</td>\n",
       "      <td>38</td>\n",
       "      <td>13</td>\n",
       "      <td>1</td>\n",
       "      <td>0</td>\n",
       "      <td>0</td>\n",
       "    </tr>\n",
       "  </tbody>\n",
       "</table>\n",
       "</div>"
      ],
      "text/plain": [
       "   CompPrice  Income  Advertising  Population  Price  ShelveLoc  Age  \\\n",
       "0        138      73           11         276    120          0   42   \n",
       "1        111      48           16         260     83          1   65   \n",
       "2        113      35           10         269     80          2   59   \n",
       "3        117     100            4         466     97          2   55   \n",
       "4        141      64            3         340    128          0   38   \n",
       "\n",
       "   Education  Urban  US  Sales_class  \n",
       "0         17      1   1            1  \n",
       "1         10      1   1            1  \n",
       "2         12      1   1            1  \n",
       "3         14      1   1            0  \n",
       "4         13      1   0            0  "
      ]
     },
     "execution_count": 11,
     "metadata": {},
     "output_type": "execute_result"
    }
   ],
   "source": [
    "df.head()"
   ]
  },
  {
   "cell_type": "code",
   "execution_count": 12,
   "id": "8831022b",
   "metadata": {
    "ExecuteTime": {
     "end_time": "2021-12-18T05:21:09.678231Z",
     "start_time": "2021-12-18T05:21:06.165058Z"
    }
   },
   "outputs": [
    {
     "data": {
      "image/png": "[encoded data removed]",
      "text/plain": [
       "<Figure size 1440x1440 with 12 Axes>"
      ]
     },
     "metadata": {
      "needs_background": "light"
     },
     "output_type": "display_data"
    }
   ],
   "source": [
    "# Visulazing the distibution of the data for every feature\n",
    "df.hist(edgecolor='black', linewidth=1.2, figsize=(20, 20));"
   ]
  },
  {
   "cell_type": "markdown",
   "id": "c8b835f1",
   "metadata": {},
   "source": [
    "## Using below code  for AutoViz library , we can visualize EDA in proper manner."
   ]
  },
  {
   "cell_type": "code",
   "execution_count": 13,
   "id": "5261f528",
   "metadata": {
    "ExecuteTime": {
     "end_time": "2021-12-18T05:21:47.003870Z",
     "start_time": "2021-12-18T05:21:17.640622Z"
    }
   },
   "outputs": [],
   "source": [
    "\n",
    "\n",
    "\n",
    "# df.to_csv('auto.csv')\n",
    "# from autoviz.AutoViz_Class import AutoViz_Class \n",
    "# AV=AutoViz_Class()\n",
    "\n",
    "\n",
    "# viz=AV.AutoViz('auto.csv')"
   ]
  },
  {
   "cell_type": "code",
   "execution_count": 14,
   "id": "84bd32a8",
   "metadata": {
    "ExecuteTime": {
     "end_time": "2021-12-18T05:21:49.250212Z",
     "start_time": "2021-12-18T05:21:47.069821Z"
    }
   },
   "outputs": [
    {
     "data": {
      "text/plain": [
       "<AxesSubplot:>"
      ]
     },
     "execution_count": 14,
     "metadata": {},
     "output_type": "execute_result"
    },
    {
     "data": {
      "image/png": "[encoded data removed]",
      "text/plain": [
       "<Figure size 1008x720 with 2 Axes>"
      ]
     },
     "metadata": {
      "needs_background": "light"
     },
     "output_type": "display_data"
    }
   ],
   "source": [
    "plt.figure(figsize=(14,10))\n",
    "import seaborn as sns\n",
    "sns.heatmap(df.corr(),annot=True,cmap='Oranges')"
   ]
  },
  {
   "cell_type": "code",
   "execution_count": 15,
   "id": "24f632c8",
   "metadata": {
    "ExecuteTime": {
     "end_time": "2021-12-18T05:22:01.427038Z",
     "start_time": "2021-12-18T05:22:01.415070Z"
    }
   },
   "outputs": [],
   "source": [
    "pdata=df.copy()"
   ]
  },
  {
   "cell_type": "code",
   "execution_count": 16,
   "id": "b8b93e22",
   "metadata": {
    "ExecuteTime": {
     "end_time": "2021-12-18T05:22:05.102099Z",
     "start_time": "2021-12-18T05:22:05.079385Z"
    }
   },
   "outputs": [
    {
     "data": {
      "text/plain": [
       "0    202\n",
       "1    198\n",
       "Name: Sales_class, dtype: int64"
      ]
     },
     "execution_count": 16,
     "metadata": {},
     "output_type": "execute_result"
    }
   ],
   "source": [
    "x=pdata.iloc[:,0:-1]\n",
    "y=pdata['Sales_class']\n",
    "y.value_counts()"
   ]
  },
  {
   "cell_type": "markdown",
   "id": "c41cc198",
   "metadata": {},
   "source": [
    "### from above observation, we conclude that dataset is not imbalanced."
   ]
  },
  {
   "cell_type": "markdown",
   "id": "1dae11fb",
   "metadata": {},
   "source": [
    "# Model Building using Random forest"
   ]
  },
  {
   "cell_type": "code",
   "execution_count": 17,
   "id": "6d546447",
   "metadata": {
    "ExecuteTime": {
     "end_time": "2021-12-18T05:22:27.051694Z",
     "start_time": "2021-12-18T05:22:27.036731Z"
    }
   },
   "outputs": [],
   "source": [
    "x_train, x_test, y_train, y_test = train_test_split(x,y,test_size = 0.2,random_state=42)"
   ]
  },
  {
   "cell_type": "code",
   "execution_count": 18,
   "id": "b93c1056",
   "metadata": {
    "ExecuteTime": {
     "end_time": "2021-12-18T05:22:31.614892Z",
     "start_time": "2021-12-18T05:22:30.890602Z"
    }
   },
   "outputs": [],
   "source": [
    "from sklearn.ensemble import RandomForestClassifier"
   ]
  },
  {
   "cell_type": "code",
   "execution_count": 19,
   "id": "7d4e04b5",
   "metadata": {
    "ExecuteTime": {
     "end_time": "2021-12-18T05:23:58.905712Z",
     "start_time": "2021-12-18T05:23:58.603320Z"
    }
   },
   "outputs": [
    {
     "name": "stdout",
     "output_type": "stream",
     "text": [
      "0.8125\n"
     ]
    }
   ],
   "source": [
    "modelb=RandomForestClassifier()\n",
    "modelb.fit(x_train,y_train)\n",
    "pred=modelb.predict(x_test)\n",
    "print(np.mean(y_test==pred))"
   ]
  },
  {
   "cell_type": "markdown",
   "id": "56dd9c64",
   "metadata": {
    "ExecuteTime": {
     "end_time": "2021-12-18T05:24:19.293845Z",
     "start_time": "2021-12-18T05:24:19.268609Z"
    }
   },
   "source": [
    "# OPTIMIZATION USING GRID SEARCH\n",
    "\n"
   ]
  },
  {
   "cell_type": "code",
   "execution_count": null,
   "id": "ebf34db7",
   "metadata": {
    "ExecuteTime": {
     "end_time": "2021-12-18T05:24:58.232131Z",
     "start_time": "2021-12-18T05:24:58.216507Z"
    }
   },
   "outputs": [],
   "source": [
    "# below code taking too much time too run it.\n",
    "from sklearn.model_selection import GridSearchCV\n",
    "gmodel=RandomForestClassifier()\n",
    "param_grid=({'n_estimators':[100,200,300,400,500],'criterion':['gini','entropy'],'max_depth':range(2,20),'max_leaf_nodes':range(2,20)})\n",
    "grid=GridSearchCV(gmodel,param_grid)\n",
    "grid.fit(x,y)\n",
    "print(grid.best_score_)\n",
    "print(grid.best_params_)"
   ]
  },
  {
   "cell_type": "markdown",
   "id": "877722ea",
   "metadata": {},
   "source": [
    "0.8150000000000001\n",
    "\n",
    "{'criterion': 'entropy', 'max_depth': 19, 'max_leaf_nodes': 19, 'n_estimators': 500}\n"
   ]
  },
  {
   "cell_type": "code",
   "execution_count": null,
   "id": "af6e27ae",
   "metadata": {
    "ExecuteTime": {
     "end_time": "2021-12-18T05:26:10.211433Z",
     "start_time": "2021-12-18T05:26:10.206448Z"
    }
   },
   "outputs": [],
   "source": [
    "modelb=RandomForestClassifier(criterion='entropy',max_depth= 19,max_leaf_nodes=19,n_estimators=500)\n",
    "modelb.fit(x,y)\n",
    "pred=modelb.predict(x)\n",
    "print(np.mean(y==pred))"
   ]
  },
  {
   "cell_type": "markdown",
   "id": "4ddd7fc8",
   "metadata": {},
   "source": [
    "0.945"
   ]
  },
  {
   "cell_type": "code",
   "execution_count": null,
   "id": "8ba03897",
   "metadata": {
    "ExecuteTime": {
     "end_time": "2021-12-18T05:28:00.823369Z",
     "start_time": "2021-12-18T05:28:00.812397Z"
    }
   },
   "outputs": [],
   "source": [
    "modelb=RandomForestClassifier(criterion='entropy',max_depth= 19,max_leaf_nodes=19,n_estimators=500)\n",
    "modelb.fit(x_train,y_train)\n",
    "pred=modelb.predict(x_train)\n",
    "print(np.mean(y_train==pred))"
   ]
  },
  {
   "cell_type": "markdown",
   "id": "d0efdc0d",
   "metadata": {},
   "source": [
    "0.94375"
   ]
  },
  {
   "cell_type": "code",
   "execution_count": null,
   "id": "9e290963",
   "metadata": {
    "ExecuteTime": {
     "end_time": "2021-12-18T05:29:19.014486Z",
     "start_time": "2021-12-18T05:29:18.995535Z"
    }
   },
   "outputs": [],
   "source": [
    "from sklearn.model_selection import KFold\n",
    "from sklearn.model_selection import cross_val_score\n",
    "kfold=KFold(n_splits=10,random_state=7)\n",
    "results=cross_val_score(modelb,x,y,cv=kfold)\n",
    "print(results.mean())"
   ]
  },
  {
   "cell_type": "markdown",
   "id": "42b155aa",
   "metadata": {},
   "source": [
    "C:\\Users\\Public\\anacon\\lib\\site-packages\\sklearn\\model_selection\\_split.py:292: FutureWarning: Setting a random_state has no effect since shuffle is False. This will raise an error in 0.24. You should leave random_state to its default (None), or set shuffle=True.\n",
    "  warnings.warn(\n",
    "  \n",
    "0.8175000000000001"
   ]
  },
  {
   "cell_type": "markdown",
   "id": "8d0f3c9f",
   "metadata": {},
   "source": [
    "# USING BAGGING TECHNIQUE"
   ]
  },
  {
   "cell_type": "code",
   "execution_count": null,
   "id": "d7ea2ed0",
   "metadata": {
    "ExecuteTime": {
     "end_time": "2021-12-18T05:30:50.648115Z",
     "start_time": "2021-12-18T05:30:50.644126Z"
    }
   },
   "outputs": [],
   "source": [
    "modelb1=RandomForestClassifier(n_estimators=500,criterion='entropy',max_leaf_nodes=19,max_depth=19)"
   ]
  },
  {
   "cell_type": "code",
   "execution_count": null,
   "id": "b77a8d21",
   "metadata": {
    "ExecuteTime": {
     "end_time": "2021-12-18T05:31:15.210035Z",
     "start_time": "2021-12-18T05:31:15.194411Z"
    }
   },
   "outputs": [],
   "source": [
    "from sklearn.ensemble import BaggingClassifier\n",
    "model=BaggingClassifier(base_estimator=modelb1)\n",
    "results=cross_val_score(model,x,y,cv=kfold)\n",
    "print(results.mean())\n"
   ]
  },
  {
   "cell_type": "markdown",
   "id": "a3dbe37e",
   "metadata": {},
   "source": [
    "0.8125"
   ]
  },
  {
   "cell_type": "markdown",
   "id": "5fc0b09e",
   "metadata": {},
   "source": [
    "# USING ADABOOST TECHNIQUE"
   ]
  },
  {
   "cell_type": "code",
   "execution_count": null,
   "id": "ef59eb0b",
   "metadata": {
    "ExecuteTime": {
     "end_time": "2021-12-18T05:32:42.289195Z",
     "start_time": "2021-12-18T05:32:42.267071Z"
    }
   },
   "outputs": [],
   "source": [
    "from sklearn.ensemble import AdaBoostClassifier\n",
    "model=AdaBoostClassifier(base_estimator=modelb)\n",
    "results=cross_val_score(model,x,y,cv=kfold)\n",
    "print(results.mean())"
   ]
  },
  {
   "cell_type": "markdown",
   "id": "c30968eb",
   "metadata": {},
   "source": [
    "0.8325"
   ]
  },
  {
   "cell_type": "markdown",
   "id": "8d456059",
   "metadata": {},
   "source": [
    "# USING VOTING CLASSIFEIR"
   ]
  },
  {
   "cell_type": "code",
   "execution_count": null,
   "id": "4b73fdf5",
   "metadata": {
    "ExecuteTime": {
     "end_time": "2021-12-18T05:34:16.111949Z",
     "start_time": "2021-12-18T05:34:16.102974Z"
    }
   },
   "outputs": [],
   "source": [
    "from sklearn.ensemble import VotingClassifier\n",
    "from sklearn.svm import SVC\n",
    "\n",
    "estimators=[]\n",
    "model1=LogisticRegression(max_iter=500,solver='liblinear')\n",
    "estimators.append(('logistic',model1))\n",
    "model2=DecisionTreeClassifier()\n",
    "estimators.append(('cart',model2))\n",
    "model3=SVC()\n",
    "estimators.append(('svm',model3))\n",
    "model4=AdaBoostClassifier(base_estimator=modelb1)\n",
    "estimators.append(('adaboost',model4))\n",
    "model5=BaggingClassifier(base_estimator=modelb1)\n",
    "estimators.append(('bagging',model5))\n",
    "model6=RandomForestClassifier(n_estimators=500,criterion='entropy',max_leaf_nodes=19,max_depth=19)\n",
    "estimators.append(('RandomForest',model6))\n",
    "\n",
    "ensemble=VotingClassifier(estimators)\n",
    "results=cross_val_score(ensemble,x,y,cv=kfold)\n",
    "print(results)\n"
   ]
  },
  {
   "cell_type": "markdown",
   "id": "b0264a8b",
   "metadata": {},
   "source": [
    "[0.825 0.85  0.725 0.775 0.8   0.925 0.825 0.8   0.825 0.85 ]"
   ]
  },
  {
   "cell_type": "code",
   "execution_count": null,
   "id": "e50fb7f3",
   "metadata": {
    "ExecuteTime": {
     "end_time": "2021-12-18T05:35:34.655819Z",
     "start_time": "2021-12-18T05:35:34.640196Z"
    }
   },
   "outputs": [],
   "source": [
    "print(results.mean())"
   ]
  },
  {
   "cell_type": "markdown",
   "id": "1dad9d37",
   "metadata": {},
   "source": [
    "0.8200000000000001"
   ]
  },
  {
   "cell_type": "markdown",
   "id": "f9c8aa7f",
   "metadata": {},
   "source": [
    "# XGBM"
   ]
  },
  {
   "cell_type": "code",
   "execution_count": null,
   "id": "94814bd2",
   "metadata": {
    "ExecuteTime": {
     "end_time": "2021-12-18T05:37:04.695600Z",
     "start_time": "2021-12-18T05:37:04.573343Z"
    }
   },
   "outputs": [],
   "source": [
    "from tqdm.notebook import tqdm, trange\n",
    "import time\n",
    "# First XGBoost model for dataset\n",
    "from numpy import loadtxt\n",
    "from xgboost import XGBClassifier\n",
    "from sklearn.model_selection import train_test_split\n",
    "from sklearn.metrics import accuracy_score"
   ]
  },
  {
   "cell_type": "code",
   "execution_count": null,
   "id": "80211a75",
   "metadata": {
    "ExecuteTime": {
     "end_time": "2021-12-18T05:37:15.231228Z",
     "start_time": "2021-12-18T05:37:14.726608Z"
    }
   },
   "outputs": [],
   "source": [
    "xgmodel = XGBClassifier()\n",
    "xgmodel.fit(x_train, y_train)"
   ]
  },
  {
   "cell_type": "code",
   "execution_count": null,
   "id": "1b233635",
   "metadata": {
    "ExecuteTime": {
     "end_time": "2021-12-18T05:37:29.120210Z",
     "start_time": "2021-12-18T05:37:28.993839Z"
    }
   },
   "outputs": [],
   "source": [
    "# make predictions for test data\n",
    "y_pred = xgmodel.predict(x_test)\n",
    "predictions = [round(value) for value in y_pred]"
   ]
  },
  {
   "cell_type": "code",
   "execution_count": null,
   "id": "9c50888c",
   "metadata": {
    "ExecuteTime": {
     "end_time": "2021-12-18T05:37:38.097348Z",
     "start_time": "2021-12-18T05:37:38.084381Z"
    }
   },
   "outputs": [],
   "source": [
    "y_pred\n"
   ]
  },
  {
   "cell_type": "code",
   "execution_count": null,
   "id": "2a676216",
   "metadata": {
    "ExecuteTime": {
     "end_time": "2021-12-18T05:37:51.188945Z",
     "start_time": "2021-12-18T05:37:51.149051Z"
    }
   },
   "outputs": [],
   "source": [
    "y_pred1 = xgmodel.predict(x_train)\n",
    "predictions1 = [round(value) for value in y_pred1]\n"
   ]
  },
  {
   "cell_type": "code",
   "execution_count": null,
   "id": "f83b0e7b",
   "metadata": {
    "ExecuteTime": {
     "end_time": "2021-12-18T05:38:01.631990Z",
     "start_time": "2021-12-18T05:38:01.615033Z"
    }
   },
   "outputs": [],
   "source": [
    "# evaluate predictions\n",
    "accuracy = accuracy_score(y_test, predictions)\n",
    "print(\"Accuracy: %.2f%%\" % (accuracy * 100.0))\n"
   ]
  },
  {
   "cell_type": "code",
   "execution_count": null,
   "id": "592890f3",
   "metadata": {
    "ExecuteTime": {
     "end_time": "2021-12-18T05:38:12.453598Z",
     "start_time": "2021-12-18T05:38:12.426922Z"
    }
   },
   "outputs": [],
   "source": [
    "# evaluate predictions\n",
    "accuracy = accuracy_score(y_train, predictions1)\n",
    "print(\"Accuracy: %.2f%%\" % (accuracy * 100.0))"
   ]
  },
  {
   "cell_type": "markdown",
   "id": "1b959341",
   "metadata": {},
   "source": [
    "# LGBM"
   ]
  },
  {
   "cell_type": "code",
   "execution_count": null,
   "id": "6cbc3a6e",
   "metadata": {
    "ExecuteTime": {
     "end_time": "2021-12-18T05:38:47.348176Z",
     "start_time": "2021-12-18T05:38:43.584634Z"
    }
   },
   "outputs": [],
   "source": [
    "import lightgbm as lgb\n",
    "d_train = lgb.Dataset(x_train, label=y_train)"
   ]
  },
  {
   "cell_type": "code",
   "execution_count": null,
   "id": "05fd37fc",
   "metadata": {
    "ExecuteTime": {
     "end_time": "2021-12-18T05:38:54.986934Z",
     "start_time": "2021-12-18T05:38:54.973969Z"
    }
   },
   "outputs": [],
   "source": [
    "params = {}\n",
    "params['learning_rate'] = 0.003\n",
    "params['boosting_type'] = 'gbdt'\n",
    "params['objective'] = 'binary'\n",
    "params['metric'] = 'binary_logloss'\n",
    "params['sub_feature'] = 0.5\n",
    "params['num_leaves'] = 10\n",
    "params['min_data'] = 50\n",
    "params['max_depth'] = 19"
   ]
  },
  {
   "cell_type": "code",
   "execution_count": null,
   "id": "bfdcfe6a",
   "metadata": {
    "ExecuteTime": {
     "end_time": "2021-12-18T05:39:05.076205Z",
     "start_time": "2021-12-18T05:39:04.820452Z"
    }
   },
   "outputs": [],
   "source": [
    "clf = lgb.train(params, d_train, 100)\n"
   ]
  },
  {
   "cell_type": "code",
   "execution_count": null,
   "id": "ff0b5480",
   "metadata": {
    "ExecuteTime": {
     "end_time": "2021-12-18T05:39:25.382610Z",
     "start_time": "2021-12-18T05:39:25.348699Z"
    }
   },
   "outputs": [],
   "source": [
    "#Prediction\n",
    "y_pred=clf.predict(x_test)\n"
   ]
  },
  {
   "cell_type": "code",
   "execution_count": null,
   "id": "fffd3bfe",
   "metadata": {
    "ExecuteTime": {
     "end_time": "2021-12-18T05:39:36.852169Z",
     "start_time": "2021-12-18T05:39:36.839204Z"
    }
   },
   "outputs": [],
   "source": [
    "predictions = [round(value) for value in y_pred]"
   ]
  },
  {
   "cell_type": "code",
   "execution_count": null,
   "id": "f014b173",
   "metadata": {
    "ExecuteTime": {
     "end_time": "2021-12-18T05:39:49.714460Z",
     "start_time": "2021-12-18T05:39:49.693516Z"
    }
   },
   "outputs": [],
   "source": [
    "accuracy = accuracy_score(y_test, predictions)\n",
    "accuracy"
   ]
  },
  {
   "cell_type": "markdown",
   "id": "9f275719",
   "metadata": {},
   "source": [
    "# APPLYING RFE:"
   ]
  },
  {
   "cell_type": "code",
   "execution_count": null,
   "id": "b32dd01b",
   "metadata": {
    "ExecuteTime": {
     "end_time": "2021-12-18T05:40:14.948153Z",
     "start_time": "2021-12-18T05:40:14.938180Z"
    }
   },
   "outputs": [],
   "source": [
    "from sklearn.feature_selection import SelectKBest\n",
    "from sklearn.feature_selection import chi2\n",
    "from sklearn.feature_selection import RFE\n"
   ]
  },
  {
   "cell_type": "code",
   "execution_count": null,
   "id": "207a0e78",
   "metadata": {
    "ExecuteTime": {
     "end_time": "2021-12-18T05:40:25.713573Z",
     "start_time": "2021-12-18T05:40:25.695620Z"
    }
   },
   "outputs": [],
   "source": [
    "RFE.predict\n"
   ]
  },
  {
   "cell_type": "code",
   "execution_count": null,
   "id": "bd61fe8c",
   "metadata": {
    "ExecuteTime": {
     "end_time": "2021-12-18T05:40:35.718155Z",
     "start_time": "2021-12-18T05:40:35.711173Z"
    }
   },
   "outputs": [],
   "source": [
    "modelf=RandomForestClassifier(n_estimators=500,criterion='entropy',max_leaf_nodes=19,max_depth=19)\n",
    "#final_model=DecisionTreeClassifier(max_depth=8,criterion='entropy',max_leaf_nodes=19,min_samples_leaf=4)\n",
    "a = [2,3,4,5,6,7,8,9,10,11,12] \n",
    "parameter = ({'n_features_to_select':a})\n",
    "rfe = RFE(modelf)"
   ]
  },
  {
   "cell_type": "code",
   "execution_count": null,
   "id": "9a6ad569",
   "metadata": {
    "ExecuteTime": {
     "end_time": "2021-12-18T05:40:49.030921Z",
     "start_time": "2021-12-18T05:40:49.014963Z"
    }
   },
   "outputs": [],
   "source": [
    "from sklearn.model_selection import GridSearchCV\n",
    "from sklearn.metrics import accuracy_score, confusion_matrix, classification_report\n",
    "from sklearn.feature_selection import RFE\n",
    "from sklearn.model_selection import KFold\n",
    "from sklearn.model_selection import cross_val_score"
   ]
  },
  {
   "cell_type": "code",
   "execution_count": null,
   "id": "672255b8",
   "metadata": {
    "ExecuteTime": {
     "end_time": "2021-12-18T05:55:11.248925Z",
     "start_time": "2021-12-18T05:51:07.307121Z"
    }
   },
   "outputs": [],
   "source": [
    "gridRFE = GridSearchCV(rfe,parameter)\n",
    "gridRFE.fit(x_train,y_train)\n",
    "gridRFE.best_params_"
   ]
  },
  {
   "cell_type": "code",
   "execution_count": null,
   "id": "230b1278",
   "metadata": {
    "ExecuteTime": {
     "end_time": "2021-12-18T05:56:24.794310Z",
     "start_time": "2021-12-18T05:56:24.786316Z"
    }
   },
   "outputs": [],
   "source": [
    "a=RFE(final_model,9)"
   ]
  },
  {
   "cell_type": "code",
   "execution_count": null,
   "id": "193d0cd5",
   "metadata": {
    "ExecuteTime": {
     "end_time": "2021-12-18T05:57:15.667838Z",
     "start_time": "2021-12-18T05:57:15.651848Z"
    }
   },
   "outputs": [],
   "source": [
    "a.fit(x_train,y_train) "
   ]
  },
  {
   "cell_type": "markdown",
   "id": "4a17e9d7",
   "metadata": {},
   "source": [
    "RFE(estimator=DecisionTreeClassifier(ccp_alpha=0.0, class_weight=None,\n",
    "\n",
    "                                     criterion='entropy', max_depth=8,\n",
    "                                     max_features=None, max_leaf_nodes=19,\n",
    "                                     min_impurity_decrease=0.0,\n",
    "                                     min_impurity_split=None,\n",
    "                                     min_samples_leaf=4, min_samples_split=2,\n",
    "                                     min_weight_fraction_leaf=0.0,\n",
    "                                     presort='deprecated', random_state=None,\n",
    "                                     splitter='best'),\n",
    "                                     \n",
    "    n_features_to_select=9, step=1, verbose=0)"
   ]
  },
  {
   "cell_type": "code",
   "execution_count": null,
   "id": "15fbe741",
   "metadata": {
    "ExecuteTime": {
     "end_time": "2021-12-18T06:00:23.204912Z",
     "start_time": "2021-12-18T06:00:23.188894Z"
    }
   },
   "outputs": [],
   "source": [
    "a.support_"
   ]
  },
  {
   "cell_type": "markdown",
   "id": "97d297e8",
   "metadata": {},
   "source": [
    "array([ True,  True,  True,  True,  True,  True])"
   ]
  },
  {
   "cell_type": "code",
   "execution_count": null,
   "id": "67137e86",
   "metadata": {
    "ExecuteTime": {
     "end_time": "2021-12-18T06:01:26.904959Z",
     "start_time": "2021-12-18T06:01:26.888966Z"
    }
   },
   "outputs": [],
   "source": [
    "a.ranking_"
   ]
  },
  {
   "cell_type": "markdown",
   "id": "4bb1723b",
   "metadata": {},
   "source": [
    "array([1, 1, 1, 1, 1, 1])"
   ]
  },
  {
   "cell_type": "code",
   "execution_count": null,
   "id": "a58196c7",
   "metadata": {
    "ExecuteTime": {
     "end_time": "2021-12-18T06:02:17.348323Z",
     "start_time": "2021-12-18T06:02:17.316343Z"
    }
   },
   "outputs": [],
   "source": [
    "df.head()"
   ]
  },
  {
   "cell_type": "code",
   "execution_count": null,
   "id": "54b506a9",
   "metadata": {
    "ExecuteTime": {
     "end_time": "2021-12-18T06:02:33.277164Z",
     "start_time": "2021-12-18T06:02:33.261175Z"
    }
   },
   "outputs": [],
   "source": [
    "rfe_df=df.copy()\n",
    "rfe_df.head(2)"
   ]
  },
  {
   "cell_type": "code",
   "execution_count": null,
   "id": "f6c1b97c",
   "metadata": {
    "ExecuteTime": {
     "end_time": "2021-12-18T06:02:46.506440Z",
     "start_time": "2021-12-18T06:02:46.490425Z"
    }
   },
   "outputs": [],
   "source": [
    "rfe_df.drop(['Population','Urban','US','Education'],axis=1,inplace=True)"
   ]
  },
  {
   "cell_type": "code",
   "execution_count": null,
   "id": "386db113",
   "metadata": {
    "ExecuteTime": {
     "end_time": "2021-12-18T06:02:59.648805Z",
     "start_time": "2021-12-18T06:02:59.624827Z"
    }
   },
   "outputs": [],
   "source": [
    "rfe_df.head(2)"
   ]
  },
  {
   "cell_type": "code",
   "execution_count": null,
   "id": "b26ce882",
   "metadata": {
    "ExecuteTime": {
     "end_time": "2021-12-18T06:03:11.192689Z",
     "start_time": "2021-12-18T06:03:11.176669Z"
    }
   },
   "outputs": [],
   "source": [
    "rfe_df.Sales_class.value_counts()"
   ]
  },
  {
   "cell_type": "code",
   "execution_count": null,
   "id": "2139d82e",
   "metadata": {
    "ExecuteTime": {
     "end_time": "2021-12-18T06:03:21.551387Z",
     "start_time": "2021-12-18T06:03:21.543393Z"
    }
   },
   "outputs": [],
   "source": [
    "x1=rfe_df.iloc[:,0:-1]\n",
    "y1=rfe_df.iloc[:,-1]"
   ]
  },
  {
   "cell_type": "code",
   "execution_count": null,
   "id": "d484a8e0",
   "metadata": {
    "ExecuteTime": {
     "end_time": "2021-12-18T06:03:37.777981Z",
     "start_time": "2021-12-18T06:03:37.761993Z"
    }
   },
   "outputs": [],
   "source": [
    "x_train, x_test, y_train, y_test = train_test_split(x1,y1,test_size = 0.2,random_state=42)"
   ]
  },
  {
   "cell_type": "code",
   "execution_count": null,
   "id": "8066d4e3",
   "metadata": {
    "ExecuteTime": {
     "end_time": "2021-12-18T06:03:50.468490Z",
     "start_time": "2021-12-18T06:03:49.308348Z"
    }
   },
   "outputs": [],
   "source": [
    "#f_model=DecisionTreeClassifier(max_depth=8,criterion='entropy',max_leaf_nodes=19,min_samples_leaf=4)\n",
    "f_model=RandomForestClassifier(n_estimators=500,criterion='entropy',max_leaf_nodes=19,max_depth=19)\n",
    "f_model.fit(x_train, y_train)\n",
    "print(f_model.score(x_train, y_train))\n",
    "print(f_model.score(x_test, y_test))"
   ]
  },
  {
   "cell_type": "code",
   "execution_count": null,
   "id": "75867d61",
   "metadata": {},
   "outputs": [],
   "source": []
  }
 ],
 "metadata": {
  "gist": {
   "data": {
    "description": "random forest (1).ipynb",
    "public": true
   },
   "id": ""
  },
  "kernelspec": {
   "display_name": "Python 3 (ipykernel)",
   "language": "python",
   "name": "python3"
  },
  "language_info": {
   "codemirror_mode": {
    "name": "ipython",
    "version": 3
   },
   "file_extension": ".py",
   "mimetype": "text/x-python",
   "name": "python",
   "nbconvert_exporter": "python",
   "pygments_lexer": "ipython3",
   "version": "3.9.12"
  },
  "varInspector": {
   "cols": {
    "lenName": 16,
    "lenType": 16,
    "lenVar": 40
   },
   "kernels_config": {
    "python": {
     "delete_cmd_postfix": "",
     "delete_cmd_prefix": "del ",
     "library": "var_list.py",
     "varRefreshCmd": "print(var_dic_list())"
    },
    "r": {
     "delete_cmd_postfix": ") ",
     "delete_cmd_prefix": "rm(",
     "library": "var_list.r",
     "varRefreshCmd": "cat(var_dic_list()) "
    }
   },
   "types_to_exclude": [
    "module",
    "function",
    "builtin_function_or_method",
    "instance",
    "_Feature"
   ],
   "window_display": false
  }
 },
 "nbformat": 4,
 "nbformat_minor": 5
}
